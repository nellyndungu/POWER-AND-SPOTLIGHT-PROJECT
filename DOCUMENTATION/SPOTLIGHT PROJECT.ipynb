{
 "cells": [
  {
   "metadata": {
    "collapsed": true
   },
   "cell_type": "markdown",
   "source": [
    "# DESIGN AND DEVELOPMENT OF POWER SUPPLY FOR ART SPOTLIGHTS\n",
    "\n",
    "## ABSTRACT\n",
    "## INTRODUCTION\n",
    "Lighting plays a critical role in the presentation of artwork, as it not only illuminates the pieces but also enhances their visual impact and overall ambience of the display environment. Spotlights are particularly effective for the purpose, as they provide focused and controlled beams of light that draw attention to individual art pieces. Proper lighting ensures that the details, texture, and color of the artwork are clearly visible, while also creating an aesthetic atmosphere that compliments the gallery or exhibition space.\n",
    "\n",
    "In this project, the goal is to design a custom spotlight system using light-emitting diodes (LEDs) to illuminate art pieces. Each art piece will be highlighted using two LEDs, ensuring uniform brightness and energy efficiency. LEDs are selected due to their advantages such as low power consumption, compact size, long lifespan, and their ability to provide bright white light suitable for highlighting artwork. A total of ten art pieces will be displayed, requiring 20 LEDs in the entire system.\n",
    "\n",
    "Since LEDs operate on DC at a voltage of approximately 3 - 3.3 V while the available power supply from a standard socket si 240 V AC, a conversion stage is required. This is achieved by designing a power board that converts AC to a stable DC supply. The power board ensures safe and reliable operation of the LEDs while preventing damage due to overvoltage or fluctuations. From the power board, small load boards are developed, each consisting of 2 LEDs and a parallel resistors to regulate voltage and current.\n",
    "\n",
    "By creating this modular system - comprising a central power conversion unit and LED load boards - the project provides a practical, efficient and, scalable approach to spotlighting for art displays. The design balances functionality and safety making it well suited for gallery installations or similar applications.\n",
    "\n",
    "## Literature Review\n",
    "Each LED has a forward voltage drop, which depends on its material and color. White LEDs typically have a forward voltage of about 3 - 3.3 V. To operate, an LED must be supplied with at least this forward voltage and any excess voltage must be controlled to prevent overheating or damage. The current-voltage characteristics of LED is highly nonlinear. A small change in applied voltage can cause a large change in current. Without proper control, this can exceed the LEDs maximum rated current, leading to failure. hence, current limiting is essential in LED circuit.\n",
    "Resistors are used in series with LEDs to limit the current flowing through them. Since an LED's voltage drop is almost constant when conducting, the resistor absorbs the excess voltage and ensures a safe current level. Using Ohm's law:\n",
    "$$ R = \\frac{V_s - V_F}{I_f} $$\n",
    "where $V_s$ is supply voltage, $V_f$ is the forward voltage and $I_f$ is the desired forward current typically 20 - 30 mA. This ensures reliable operation and prevents thermal damage.\n",
    "\n",
    "The power from the wall socket is 240 VAC, which cannot directly drive LEDs. Therefore, a conversion system is required in the steps below:\n",
    "1. Transformer: A step-down transformer is often used to reduce 240 VAC to a safer, lower AC voltage before rectification.\n",
    "2. Rectification: AC is first passed through a rectifier, typically a bridge rectifier, that converts alternating current into pulsating DC.\n",
    "3. Filtering: A capacitor filter smooths the pulsating DC into a more stable form, reducing ripples.\n",
    "4. Voltage regulation: The filtered DC may still vary with load and input fluctuations. A voltage regulator or a buck converter is used to provide a constant stable output.\n",
    "Linear regulators are simple but inefficient because excess voltage is dissipated as heat. In contrast, a buck converter is a switching regulator that efficiently steps down the voltage with minimal heat loss. For this project, a buck converter is the better choice since it can efficiently convert VAC down to 5 VDC which can then safely drive the LEDs with resistors for current limiting.\n",
    "\n",
    "## Methodology\n",
    "### Powerboard\n",
    "1. System specifications.\n",
    "    - Input: 240 VAC from socket supply.\n",
    "    - Output: 12 VDC capable of supplying up to 2 A.\n",
    "    - Requirement: Stable output with minimal ripple.\n",
    "2. Transformer stage\n",
    "The power board should supply 12 V, 2 A DC power. Power output of the board:\n",
    "$$ P_{out} = V \\cdot I $$\n",
    "resulting to required power output of 24 W. When rectifying AC to DC and using capacitors, there are losses. Taking 75% efficiency of the system, the required output from the transformer was calculated as:\n",
    "$$ P_{in} = \\frac{P_{out}}{\\eta} $$\n",
    "resulting to 32 W. To achieve the required regulated voltage of 12 V\n",
    "$$ V_{DC} = (V_{ac} \\cdot \\sqrt{2}) - 2 \\cdot V_{diode} $$\n",
    "The $V{diode}$ is approximately 0.7 V hence $V_{ac}$ is 9.5 V given by:\n",
    "$$ V_{ac} = \\frac{12 + 1.4}{1.414} = 9.5 V $$\n",
    "But under load, ripple and buck adjustments a margin is required hence a 12 VAC transformer will be sufficient. The required current is up to 2 A. The $ I_{ac} $ can be calculated as:\n",
    "$$ I_{ac} = 1.2 \\times I_{DC} $$\n",
    "resulting to 2.4 A. Hence the transformer specifications should be:\n",
    "    - Input: 240 V 50 Hz\n",
    "    - Output: 12 V, 3A\n",
    "    - Output power: 36 V/A\n",
    "### Simulation results of transformer stage\n",
    "Software tool: EasyEDA (Standard version - Simulation mode)\n",
    "Parameters:\n",
    "- Input voltage: 240 V, 50 Hz AC.\n",
    "- Transformer: Center-tapped transformer with ration 10:1.\n",
    "\n",
    "Using center-tap, the simulated output is 16.961 V as in the image below:"
   ],
   "id": "d38fcc406420c943",
   "attachments": {
    "585e8bde-2354-4391-acbc-015790973ae9.png": {
     "image/png": "[encoded data removed]"
    },
    "542d5198-1c79-4d32-8d68-60bacb0612dc.png": {
     "image/png": "[encoded data removed]"
    },
    "559420fb-5f21-400e-ba19-44a4b2224e9a.png": {
     "image/png": "[encoded data removed]"
    }
   }
  },
  {
   "metadata": {},
   "cell_type": "markdown",
   "source": [
    "<!-- Local files in the same folder -->\n",
    "<p align=\"center\">\n",
    "  <img src=\"Schematic_CT_TRANSFORMER_2025-08-28.png\" alt=\"Right Image\" width=\"45%\" style=\"display:inline-block;\"/>\n",
    "  <img src=\"oscilloscope.svg\" alt=\"Left Image\" width=\"45%\" style=\"display:inline-block;\"/>\n",
    "</p>\n"
   ],
   "id": "9114570ac5748e19"
  },
  {
   "metadata": {},
   "cell_type": "markdown",
   "source": "Ignoring center-tap, the simulated output is 33.931 V as in the image below:",
   "id": "acdd7fdbb4048b7d"
  },
  {
   "metadata": {},
   "cell_type": "markdown",
   "source": [
    "<!-- Local files in the same folder -->\n",
    "<p align=\"center\">\n",
    "  <img src=\"Full CT schematic.png\" alt=\"Left Image\" width=\"45%\" style=\"display:inline-block;\"/>\n",
    "  <img src=\"oscilloscope_full.svg\" alt=\"Right Image\" width=\"45%\" style=\"display:inline-block;\"/>\n",
    "\n",
    "</p>"
   ],
   "id": "2352310289c475d6"
  },
  {
   "metadata": {},
   "cell_type": "markdown",
   "source": [
    "To protect the transformer from excessive current, a fuse is used. The rating of the fuse is slightly higher than the primary current. The primary current, $I_p$, is given by:\n",
    "$$ I_p = \\frac{P_{out}}{V_s \\times \\eta}$$\n",
    "where transformer efficiency, $\\eta$ is 0.75, power needed by secondary coil of transformer, $P_{out}$ is 24W and supply voltage is 240V resulting to $I_p$ of 0.13A. Therefore, the fuse rating is 0.5A in this case a 0.5 A quick blow fuse."
   ],
   "id": "1505ac5ba6c1c8b0",
   "attachments": {
    "082baccd-6a83-4375-8f9c-77cd0b45d0b9.png": {
     "image/png": "[encoded data removed]"
    },
    "51732ff9-239f-47d3-99c1-97b4a96f64ae.png": {
     "image/png": "[encoded data removed]"
    },
    "25bd5103-9592-401d-8388-eb0c4b558caa.png": {
     "image/png": "[encoded data removed]"
    },
    "6073b5a1-30fd-4e8a-bdcf-98a0baeeb6ff.png": {
     "image/png": "[encoded data removed]"
    }
   }
  },
  {
   "metadata": {},
   "cell_type": "markdown",
   "source": [
    "3. Rectifier stage\n",
    "This stage converts the reduced AC to variable DC. The rectifier used is CT full wave rectifier with 2 power diodes (1N4003). The transformer output used was center-tapped with 12 VAC on  each half and the center tap connected as ground. The peak voltage from the secondary winding was calculated as:\n",
    "$$ V_p = V_{rms} \\times \\sqrt{2} $$\n",
    "where $V_{rms}$ from simulation was 17 V resulting to peak voltage of 24 V. This can be observed from the waveform of the transformer connection using the center tap.\n",
    "While using the center-tap full wave rectifier the voltage drop across the diode is 0.7 V. The DC voltage after rectifier was calculated as:\n",
    "$$ V_{VDC} = V_p - V_D $$\n",
    "where $ V_D$ is the voltage drop across each diode on each half resulting to 23 V after rectification.\n",
    "\n",
    "### Simulation results at rectification stage\n",
    "The output voltage after rectification was observed to be 17.635 V with a ripple of about 15 V as shown in the images below:"
   ],
   "id": "5ebf1dce8c9be730"
  },
  {
   "metadata": {},
   "cell_type": "markdown",
   "source": [
    "<!-- Local files in the same folder -->\n",
    "<p align=\"center\">\n",
    "  <img src=\"Rectifier schematic.png\" alt=\"Left Image\" width=\"45%\" style=\"display:inline-block;\"/>\n",
    "  <img src=\"oscilloscope Rectifier.svg\" alt=\"Right Image\" width=\"45%\" style=\"display:inline-block;\"/>\n",
    "\n",
    "</p>"
   ],
   "id": "caeb27802728e6f2"
  },
  {
   "metadata": {},
   "cell_type": "markdown",
   "source": [
    "4. Smoothening stage\n",
    "\n",
    "A capacitor reduces ripple voltage under load. The capacitance required for smoothening was calculated as:\n",
    "$$ C = \\frac{I}{2 \\cdot f \\cdot \\delta V} $$\n",
    "where $I$ is load current (1 A) $f$ is mains frequency (50 Hz) and $\\delta V$ is allowable ripple of about 1 V resulting to a capacitance of 0.01 F or 10,000 $\\mu$F\n",
    "### Simulation results for smoothening stage\n"
   ],
   "id": "cd54a183c02f088c"
  },
  {
   "metadata": {},
   "cell_type": "markdown",
   "source": [
    "<!-- Local files in the same folder -->\n",
    "<p align=\"center\">\n",
    "  <img src=\"SMOOTH.png\" alt=\"Left Image\" width=\"45%\" style=\"display:inline-block;\"/>\n",
    "  <img src=\"oscilloscope SMOOTH.svg\" alt=\"Right Image\" width=\"45%\" style=\"display:inline-block;\"/>\n",
    "\n",
    "</p>"
   ],
   "id": "c48108da3c709cb6"
  },
  {
   "metadata": {},
   "cell_type": "markdown",
   "source": [
    "5. Filtering stage.\n",
    "This stage cuts high-frequency noise using RC filter at a cut-off frequency of 5 Hz. The resistor value was set at 100 $\\Omega$. This allows to achieve a voltage of 12 V. The capacitance was calculated as:\n",
    "$$ C = \\frac{1}{2\\pi \\cdot R \\cdot f_c} $$\n",
    "where $ R $ is resistance (100 $\\Omega$) and $f_c$ is cut-off frequency (5 Hz) resulting to 318 $\\mu F$."
   ],
   "id": "acbe681974c2c3d2"
  },
  {
   "metadata": {},
   "cell_type": "markdown",
   "source": [
    "<!-- Local files in the same folder -->\n",
    "<p align=\"center\">\n",
    "  <img src=\"Filter schematic.png\" alt=\"Left Image\" width=\"45%\" style=\"display:inline-block;\"/>\n",
    "  <img src=\"oscilloscope filter.svg\" alt=\"Right Image\" width=\"45%\" style=\"display:inline-block;\"/>\n",
    "\n",
    "</p>"
   ],
   "id": "7f9230f5c2bccca5"
  },
  {
   "metadata": {},
   "cell_type": "markdown",
   "source": [
    "## Voltage Regulation\n",
    "From the simulations, the voltage output after rectification and filtering was 22.8V. A buck converter was used to regulate the voltage to the required according to the consumer's needs. The buck converter reduces higher DC voltage to a lower one. In this project the required was about 5V output. Further, an LED is used to indicate DC power is present.\n",
    "\n",
    "## Circuit Schematic and PCB Design\n",
    "The power board circuit schematic is shown below."
   ],
   "id": "bea4786ee925f6bc"
  },
  {
   "metadata": {},
   "cell_type": "markdown",
   "source": [
    "<!-- Local files in the same folder -->\n",
    "<p align=\"center\">\n",
    "  <img src=\"Schematic_POWER-SUPPLY_2025-09-18.svg\"1 width=\"100%\" style=\"display:inline-block;\"/>\n",
    "</p>"
   ],
   "id": "b03c518a32aad7fa"
  },
  {
   "metadata": {},
   "cell_type": "markdown",
   "source": "The PCB designs in rectangular and circular shapes are shown below;",
   "id": "ff725b85184c5b48"
  },
  {
   "metadata": {},
   "cell_type": "markdown",
   "source": [
    "<!-- Local files in the same folder -->\n",
    "<p align=\"center\">\n",
    "  <img src=\"PCB_PCB_POWER-SUPPLY_2025-09-18.svg\" alt=\"Left Image\" width=\"45%\" style=\"display:inline-block;\"/>\n",
    "  <img src=\"PCB_PCB_POWER-SUPPLY_3_2025-09-18.svg\" alt=\"Right Image\" width=\"45%\" style=\"display:inline-block;\"/>\n",
    "\n",
    "</p>"
   ],
   "id": "526bcd29172c7652"
  },
  {
   "metadata": {},
   "cell_type": "markdown",
   "source": [
    "## Load circuit\n",
    "An LED has rated voltage of 20 mA and 3 V. The buck converter output was set to 5 V. From Ohm's law, the resistor value was calculated as:\n",
    "$$ R = \\frac{V}{I} $$\n",
    "resulting to 250 $\\Omega$.\n",
    "## Load Circuit Schematic and PCB Design\n",
    "The load circuit consists of 2 LED connected in parallel."
   ],
   "id": "53049ac8a6fe8759"
  },
  {
   "metadata": {},
   "cell_type": "markdown",
   "source": [
    "<!-- Local files in the same folder -->\n",
    "<p align=\"center\">\n",
    "  <img src=\"PCB_PCB_POWER-SUPPLY_2_2025-09-18.svg\" alt=\"Left Image\" width=\"45%\" style=\"display:inline-block;\"/>\n",
    "  <img src=\"Schematic_POWER-SUPPLY_2025-09-18.svg\" alt=\"Right Image\" width=\"45%\" style=\"display:inline-block;\"/>\n",
    "\n",
    "</p>"
   ],
   "id": "3b6aae609a851d6b"
  },
  {
   "metadata": {},
   "cell_type": "markdown",
   "source": [
    "## Circuit enclosures\n",
    "The circuit boards enclosures were designed on Autodesk Inventor as shown in the orthographic views below.\n",
    "## Power board enclosure"
   ],
   "id": "a7be58e83efa3f5a"
  },
  {
   "metadata": {},
   "cell_type": "markdown",
   "source": [
    "\n",
    "<!-- Local files in the same folder -->\n",
    "<p align=\"center\">\n",
    "  <img src=\"ROUNDCIRCUITBOARD.png\" alt=\"Left Image\" width=\"45%\" style=\"display:inline-block;\"/>\n",
    "  <img src=\"CIRCUIT_CASING.png\" alt=\"Right Image\" width=\"45%\" style=\"display:inline-block;\"/>\n",
    "\n",
    "</p>"
   ],
   "id": "a5189c36d4628777"
  }
 ],
 "metadata": {
  "kernelspec": {
   "display_name": "Python 3",
   "language": "python",
   "name": "python3"
  },
  "language_info": {
   "codemirror_mode": {
    "name": "ipython",
    "version": 2
   },
   "file_extension": ".py",
   "mimetype": "text/x-python",
   "name": "python",
   "nbconvert_exporter": "python",
   "pygments_lexer": "ipython2",
   "version": "2.7.6"
  }
 },
 "nbformat": 4,
 "nbformat_minor": 5
}
